{
 "cells": [
  {
   "cell_type": "markdown",
   "id": "cloudy-twenty",
   "metadata": {},
   "source": [
    "# Function interpolation: Lagrange polynomial and cubic spline."
   ]
  },
  {
   "cell_type": "markdown",
   "id": "limiting-corpus",
   "metadata": {},
   "source": [
    "In this notebook i will implement functions to interpolate given function using Lagrange polynomial and cubic spline.\n",
    "\n",
    "Consider following:\\\n",
    "    function values $f(x_i)$ are known only for some points of the grid $\\omega = \\{a \\le x_0 < x_1 < \\dots <x_N \\le b\\} $\n",
    "\n",
    "Our goal is to find function $P_n(x)$ which satisfies the following conditions:\n",
    "\\begin{equation}\\tag{1}\\label{goal}\n",
    "    P_n(x_i) = f_i, \\; i\\in [0,n], \\text{ where } f_i = f(x_i)\n",
    "\\end{equation}\n",
    "\n",
    "This notebook will divided into 2 big parts."
   ]
  },
  {
   "cell_type": "markdown",
   "id": "grateful-operator",
   "metadata": {},
   "source": [
    "## 1. Lagrange polynomial"
   ]
  },
  {
   "cell_type": "markdown",
   "id": "signed-oliver",
   "metadata": {},
   "source": [
    "The interpolation polynomial in the Lagrange form is constructed using the Lagrange basis:\n",
    "\n",
    "\n",
    "\\begin{equation}\n",
    "    l_i(x) = \\dfrac{\\prod_{j=0, j\\ne i}^n (x-x_j)}{\\prod_{j=0, j\\ne i}^n (x_i-x_j)} \\; i = \\overline{0,n}\n",
    "\\end{equation}\n",
    "\n",
    "This basis has useful feature:\n",
    "\\begin{equation}\n",
    "    l_i(x) = \\begin{cases}\n",
    "                0, \\; j \\ne i \\\\\n",
    "                1, \\; j = i\n",
    "             \\end{cases}\n",
    "\\end{equation}\n",
    "Which we will use to write polynomial:\n",
    "\n",
    "\\begin{equation}\\tag{2}\\label{poly:long_lagr}\n",
    "    \\begin{split}\n",
    "        P_n(x) = \\sum_{i=0}^n f_i l_i(x) = \\sum_{i=0}^n f(x_i) \\dfrac{\\prod_{j=0, j\\ne i}^n (x-x_j)}{\\prod_{j=0, j\\ne i}^n (x_i-x_j)} = \\sum_{i=0}^n f_i \\prod_{j=0, j \\ne i}^n \\dfrac{x-x_j}{x_i-x_j} = \\\\\n",
    "        = \\sum_{i=0}^n f_i \\dfrac{(x-x_0)(x-x_1)\\dots (x-x_{i-1})(x-x_{i+1}) \\dots (x-x_n)}\n",
    "                               {(x_i-x_0)(x_i-x_1)\\dots (x_i-x_{i-1})(x_i-x_{i+1}) \\dots (x_i-x_n)}\n",
    "    \\end{split}\n",
    "\\end{equation}\n",
    "For convenience\n",
    "\\begin{equation}\n",
    "    w(x) = \\prod_{j=0}^n (x-x_j) \\; \\Rightarrow \\;\n",
    "    w^{'}(x) =\\sum_{k=0}^n \\prod_{j=0,j \\ne k}^n (x-x_j) \\; \\Rightarrow \\;\n",
    "    w^{'}(x_i) =\\prod_{j=0,j \\ne i}^n (x_i-x_j)\n",
    "\\end{equation}\n",
    "\n",
    "So we can rewrite \\ref{poly:long_lagr}:\n",
    "\n",
    "\\begin{equation}\\tag{2.1}\\label{poly:short_lagr}\n",
    "    P_n(x) = \\sum_{i = 0}^n f_i \\dfrac{w(x)}{(x-x_i)w^{'}(x_i)}\n",
    "\\end{equation}"
   ]
  },
  {
   "cell_type": "markdown",
   "id": "instructional-wheat",
   "metadata": {},
   "source": [
    "Lagrange polynomial has another representation:\n",
    "\n",
    "\\begin{equation} \\tag{2.2}\\label{poly:det_lagrange}\n",
    "    P_n(x) = (-1)\n",
    "    \\dfrac{\n",
    "        \\det\n",
    "        \\begin{pmatrix}\n",
    "            0       & f_0       & f_1       & \\cdots & f_n       \\\\\n",
    "            x^n     & x_0^n     & x_1^n     & \\cdots & x_n^n     \\\\\n",
    "            x^{n-1} & x_0^{n-1} & x_1^{n-1} & \\cdots & x_n^{n-1} \\\\\n",
    "            \\cdots  & \\cdots    & \\cdots    & \\cdots & \\cdots    \\\\\n",
    "            1       & 1         & 1         & \\cdots & 1         \\\\\n",
    "        \\end{pmatrix}\n",
    "    }{\n",
    "        \\det\n",
    "        \\begin{pmatrix}\n",
    "            x_0^n     & x_1^n     & \\cdots & x_n^n     \\\\\n",
    "            x_0^{n-1} & x_1^{n-1} & \\cdots & x_n^{n-1} \\\\\n",
    "            \\cdots    & \\cdots    & \\cdots & \\cdots    \\\\\n",
    "            1         & 1         & \\cdots & 1         \\\\\n",
    "        \\end{pmatrix}\n",
    "    }\n",
    "\\end{equation}\n",
    "\n",
    "We can transform it to calculate coefficients:\n",
    "\\begin{equation} \\tag{3}\n",
    "    a_i = (-1)^{n-i}\n",
    "    \\frac{\n",
    "        \\det\n",
    "        \\begin{pmatrix}\n",
    "            f_0       & f_1       & \\cdots  & \\cdots & f_n       \\\\\n",
    "            x_0^n     & x_1^n     & \\cdots  & \\cdots & x_n^n     \\\\\n",
    "            \\cdots    & \\cdots    & \\cdots  & \\cdots & \\cdots    \\\\\n",
    "            x_0^{i-1} & x_1^{i-1} & \\cdots  & \\cdots & x_n^{i-1} \\\\\n",
    "            x_0^{i+1} & x_1^{i+1} & \\cdots  & \\cdots & x_n^{i+1} \\\\\n",
    "            \\cdots    & \\cdots    & \\cdots  & \\cdots & \\cdots    \\\\\n",
    "            1         & 1         & \\cdots  & \\cdots & 1         \\\\\n",
    "        \\end{pmatrix}\n",
    "    }{\n",
    "        \\det\n",
    "        \\begin{pmatrix}\n",
    "            x_0^n     & x_1^n     & \\cdots & x_n^n     \\\\\n",
    "            x_0^{n-1} & x_1^{n-1} & \\cdots & x_n^{n-1} \\\\\n",
    "            \\cdots    & \\cdots    & \\cdots & \\cdots    \\\\\n",
    "            1         & 1         & \\cdots & 1         \\\\\n",
    "        \\end{pmatrix}\n",
    "    }, \\; i = \\overline{0,n}\n",
    "\\end{equation}"
   ]
  },
  {
   "cell_type": "markdown",
   "id": "conventional-syria",
   "metadata": {},
   "source": [
    "### Implementation\n",
    "\n",
    "Let's begin by importing required libraries."
   ]
  },
  {
   "cell_type": "code",
   "execution_count": null,
   "id": "simplified-therapy",
   "metadata": {},
   "outputs": [],
   "source": [
    "import numpy as np\n",
    "import matplotlib.pyplot as plt\n",
    "from IPython.display import Latex\n",
    "from IPython.display import display"
   ]
  },
  {
   "cell_type": "markdown",
   "id": "homeless-dividend",
   "metadata": {},
   "source": [
    "First we decide which function we will be interpolating. In my case this will be \n",
    "\\begin{equation}\n",
    "(x-2)^2 2^x-1\n",
    "\\end{equation}"
   ]
  },
  {
   "cell_type": "code",
   "execution_count": null,
   "id": "technical-weight",
   "metadata": {},
   "outputs": [],
   "source": [
    "# function which we are interpolating\n",
    "def function(x):\n",
    "    return np.asarray((x - 2)**2 * 2**x -1)"
   ]
  },
  {
   "cell_type": "markdown",
   "id": "breeding-brick",
   "metadata": {},
   "source": [
    "Then we define functions to calculate coefficients $a_i$ from formula (3). We will break this process in 3 parts."
   ]
  },
  {
   "cell_type": "code",
   "execution_count": null,
   "id": "twelve-queens",
   "metadata": {},
   "outputs": [],
   "source": [
    "def coef_numerator(x,f,i,n):\n",
    "    \"\"\"\n",
    "    Parameters: x - grid nodes\n",
    "                f - respective values\n",
    "                i - current coef number\n",
    "                n - polynomial degree\n",
    "    \"\"\"\n",
    "    matr = []\n",
    "    matr.append(f)\n",
    "    for j in range(n,-1,-1):\n",
    "        if j == i:\n",
    "            continue\n",
    "        row = []\n",
    "        for k in range(n+1):\n",
    "            row.append(x[k]**j)\n",
    "        matr.append(row)\n",
    "    return np.asarray(matr)\n",
    "\n",
    "\n",
    "def coef_denominator(x,n):\n",
    "    \"\"\"\n",
    "    Parameters: x - grid nodes\n",
    "                n - polynomial degree\n",
    "    \"\"\"\n",
    "    return np.asarray([[el ** i for el in x] for i in range(n, -1, -1)])\n",
    "\n",
    "\n",
    "def lagrange_i_coef(x,f,i,n):\n",
    "    num = coef_numerator(x,f,i,n)\n",
    "    denom = coef_denominator(x,n)\n",
    "    res = ((-1) ** (n-i)) * (np.linalg.det(num) / np.linalg.det(denom))\n",
    "    return res"
   ]
  },
  {
   "cell_type": "markdown",
   "id": "respiratory-toolbox",
   "metadata": {},
   "source": [
    "Now we are able to create function which returns all Lagrange polynomial coefficients for given degree `n`"
   ]
  },
  {
   "cell_type": "code",
   "execution_count": null,
   "id": "breeding-webcam",
   "metadata": {},
   "outputs": [],
   "source": [
    "def lagrange_coefficients(x,f):\n",
    "    n = len(x) - 1\n",
    "    coefs = [lagrange_i_coef(x,f,i,n) for i in range(n+1)]\n",
    "    return np.asarray(coefs)"
   ]
  },
  {
   "cell_type": "markdown",
   "id": "sought-charm",
   "metadata": {},
   "source": [
    "To store them, we will create class `Polynomial` which i had already implemented in `approximation_least_squares.ipynb`. I will modify it a bit - adding extra variable `info` will help us to distinguish polynomials (e.g. cubic splines on different sections, about it later)"
   ]
  },
  {
   "cell_type": "code",
   "execution_count": null,
   "id": "optical-neighborhood",
   "metadata": {},
   "outputs": [],
   "source": [
    "class Polynomial:\n",
    "    def __init__(self, coefficients, info=\"\"):\n",
    "        self.info = info\n",
    "        self.coefficients = coefficients\n",
    "        self.deg = np.size(coefficients) - 1\n",
    "        \n",
    "        \n",
    "    def __getitem__(self, key):\n",
    "        return self.coefficients[key]\n",
    "\n",
    "    \n",
    "    def __str__(self):\n",
    "        result =f\"P_{{{self.deg}}}^{{{self.info}}}(x) = {str(self.coefficients[0])}\"\n",
    "        sign = {True: \"+\", False: \"-\"}\n",
    "        form = \"\".join([f\"{sign[self.coefficients[i] > 0]}({abs(self.coefficients[i])})x^{{{i}}}\" for i in range(1,self.deg+1)])\n",
    "        return result+form\n",
    "    \n",
    "    \n",
    "    def to_latex(self):\n",
    "        result =f\"Q_{self.deg} = {str(self.coefficients[0])}\"\n",
    "        return Latex(f\"\"\"\\\\begin{{equation*}}\n",
    "                {str(self)}\n",
    "                \\\\end{{equation*}}\"\"\")\n",
    "    \n",
    "    \n",
    "    def calculate(self,x):\n",
    "        return sum([self.coefficients[i]* x**i for i in np.arange(self.deg+1)])"
   ]
  },
  {
   "cell_type": "markdown",
   "id": "rolled-stocks",
   "metadata": {},
   "source": [
    "### Optimal nodes grid\n",
    "\n",
    "To minimize interpolation error, nodes from grid must be Chebyshev polynomial roots. To find this nodes on $[a, b]$ section, following formula should be used:\n",
    "\n",
    "\n",
    "\\begin{equation} \\tag{4} \\label{nodes:cheb}\n",
    "    x_k = \\dfrac{a+b}{2} + \\dfrac{b-a}{2} \\cos{ \\dfrac{\\pi (2k+1)}{2(n+1)} }, \\; k = \\overline{0,n}\n",
    "\\end{equation}\n",
    "\n",
    "\n",
    "We will define function which takes number of nodes `n`,section  `a` `b` and calculates Chebyshev polynomial roots on $[a,b]$ section (optimal nodes grid) "
   ]
  },
  {
   "cell_type": "code",
   "execution_count": null,
   "id": "super-father",
   "metadata": {
    "scrolled": true
   },
   "outputs": [],
   "source": [
    "def optimal_nodes(n,a,b):\n",
    "    nodes = [(a+b)/2 + (b-a)/2 * np.cos((np.pi * (2*k +1))/(2 * (n + 1))) for k in range(n)]\n",
    "    return np.asarray(nodes)"
   ]
  },
  {
   "cell_type": "markdown",
   "id": "addressed-bryan",
   "metadata": {},
   "source": [
    "### Building Lagrange polynomials\n",
    "\n",
    "Now we will build to lagrange polynomials to approximate given function. Second polynomial is build based on optimal grid. First lets prepare data."
   ]
  },
  {
   "cell_type": "code",
   "execution_count": null,
   "id": "fabulous-iraqi",
   "metadata": {},
   "outputs": [],
   "source": [
    "a,b = [0,1] # given section\n",
    "n = 12 # polynomial degree\n",
    "x = np.linspace(a,b, n+1 ,endpoint=True) # n+1 because we need k+1 nodes to build polynomial with k degree\n",
    "f = function(x)"
   ]
  },
  {
   "cell_type": "markdown",
   "id": "protecting-account",
   "metadata": {},
   "source": [
    "#### Lagrange polynomial"
   ]
  },
  {
   "cell_type": "code",
   "execution_count": null,
   "id": "marine-suite",
   "metadata": {},
   "outputs": [],
   "source": [
    "lagrange_poly = Polynomial(lagrange_coefficients(x,f))\n",
    "lagrange_poly.to_latex()"
   ]
  },
  {
   "cell_type": "markdown",
   "id": "coupled-advisory",
   "metadata": {},
   "source": [
    "#### Lagrange polynomial on optimal grid"
   ]
  },
  {
   "cell_type": "code",
   "execution_count": null,
   "id": "powerful-ordinary",
   "metadata": {},
   "outputs": [],
   "source": [
    "x_optimal = optimal_nodes(n+1, a,b)\n",
    "f_optimal = function(x_optimal)\n",
    "\n",
    "lagrange_poly_optimal = Polynomial(lagrange_coefficients(x_optimal,f_optimal), info=\"*\")\n",
    "lagrange_poly_optimal.to_latex()"
   ]
  },
  {
   "cell_type": "markdown",
   "id": "obvious-gross",
   "metadata": {},
   "source": [
    "## 2. Cubic spline"
   ]
  },
  {
   "cell_type": "markdown",
   "id": "protecting-fossil",
   "metadata": {},
   "source": [
    "Given same data as in the previous paragraph, cubic interpolational spline is defined by following terms:\n",
    "1. \\begin{equation}\n",
    "        S_3(x) = \\left\\{ P_{3,i}(x) = a_i x^3 + b_i x^2 + c_i x + d_i \\; | \\; x \\in [x_{i-1}, x_i], i = \\overline{1,N} \\right\\}\n",
    "   \\end{equation}\n",
    "    \n",
    "2. \\begin{equation}\n",
    "       \\begin{cases}\n",
    "           P_{3,i}(x_i) = P_{3,i+1}(x_i) \\\\\n",
    "           P_{3,i}^{'}(x_i) = P_{3,i+1}^{'}(x_i)  \\\\\n",
    "           P_{3,i}^{''}(x_i) = P_{3,i+1}^{''}(x_i) \n",
    "       \\end{cases}\n",
    "        \\; i = \\overline{1,N-1}\n",
    "   \\end{equation}\n",
    "   \n",
    "3. \\begin{equation}\n",
    "       P_{3,i}(x_i) = f_i, \\;  i = \\overline{1,N-1}, \\; P_{3,1}(x_0) = f_0\n",
    "   \\end{equation}"
   ]
  },
  {
   "cell_type": "markdown",
   "id": "confused-invalid",
   "metadata": {},
   "source": [
    "As there is $4N$ unknown conditions in total and we defined only $4N-2$, we need 2 more conditions to complete system of linear equations. There are some possible variants, in this notebook i will cover following:\n",
    "1. \\begin{equation}\n",
    "       S_{3}^{'}(a) = P_{3,1}^{'}(a) = f_{0}^{'}, \\; S_{3}^{'}(b) = P_{3,N}^{'}(b) = f_{N}^{'}\n",
    "   \\end{equation}\n",
    "   \n",
    "2. \\begin{equation}\n",
    "       S_{3}^{''}(a) = P_{3,1}^{''}(a) = f_{0}^{''}, \\; S_{3}^{''}(b) = P_{3,N}^{''}(b) = f_{N}^{''}\n",
    "   \\end{equation}\n",
    "   \n",
    "3. \\begin{equation}\n",
    "       S_{3}^{''}(a) = P_{3,1}^{''}(a) = 0, \\; S_{3}^{''}(b) = P_{3,N}^{''}(b) = 0\n",
    "   \\end{equation}"
   ]
  },
  {
   "cell_type": "markdown",
   "id": "boolean-fever",
   "metadata": {},
   "source": []
  }
 ],
 "metadata": {
  "kernelspec": {
   "display_name": "Python 3",
   "language": "python",
   "name": "python3"
  },
  "language_info": {
   "codemirror_mode": {
    "name": "ipython",
    "version": 3
   },
   "file_extension": ".py",
   "mimetype": "text/x-python",
   "name": "python",
   "nbconvert_exporter": "python",
   "pygments_lexer": "ipython3",
   "version": "3.8.8"
  }
 },
 "nbformat": 4,
 "nbformat_minor": 5
}
