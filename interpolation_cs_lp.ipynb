{
 "cells": [
  {
   "cell_type": "markdown",
   "id": "cloudy-twenty",
   "metadata": {},
   "source": [
    "# Function interpolation: Lagrange polynomial and cubic spline."
   ]
  },
  {
   "cell_type": "markdown",
   "id": "limiting-corpus",
   "metadata": {},
   "source": [
    "In this notebook i will implement functions to interpolate given function using Lagrange polynomial and cubic spline.\n",
    "\n",
    "Consider following:\\\n",
    "    function values $f(x_i)$ are known only for some points of the grid $\\omega = \\{a \\le x_0 < x_1 < \\dots <x_N \\le b\\} $\n",
    "\n",
    "Our goal is to find function $P_n(x)$ which satisfies the following conditions:\n",
    "\\begin{equation}\\tag{1}\\label{goal}\n",
    "    P_n(x_i) = f_i, \\; i\\in [0,n], \\text{ where } f_i = f(x_i)\n",
    "\\end{equation}"
   ]
  },
  {
   "cell_type": "markdown",
   "id": "grateful-operator",
   "metadata": {},
   "source": [
    "## Lagrange polynomial"
   ]
  },
  {
   "cell_type": "markdown",
   "id": "signed-oliver",
   "metadata": {},
   "source": [
    "The interpolation polynomial in the Lagrange form is constructed using the Lagrange basis:\n",
    "\n",
    "\n",
    "\\begin{equation}\n",
    "    l_i(x) = \\dfrac{\\prod_{j=0, j\\ne i}^n (x-x_j)}{\\prod_{j=0, j\\ne i}^n (x_i-x_j)} \\; i \\in (0,n)\n",
    "\\end{equation}\n",
    "\n",
    "This basis has useful feature:\n",
    "\\begin{equation}\n",
    "    l_i(x) = \\begin{cases}\n",
    "                0, \\; j \\ne i \\\\\n",
    "                1, \\; j = i\n",
    "             \\end{cases}\n",
    "\\end{equation}\n",
    "Which we will use to write polynomial:\n",
    "\n",
    "\\begin{equation}\\tag{2}\\label{poly:long_lagr}\n",
    "    \\begin{split}\n",
    "        P_n(x) = \\sum_{i=0}^n f_i l_i(x) = \\sum_{i=0}^n f(x_i) \\dfrac{\\prod_{j=0, j\\ne i}^n (x-x_j)}{\\prod_{j=0, j\\ne i}^n (x_i-x_j)} = \\sum_{i=0}^n f_i \\prod_{j=0, j \\ne i}^n \\dfrac{x-x_j}{x_i-x_j} = \\\\\n",
    "        = \\sum_{i=0}^n f_i \\dfrac{(x-x_0)(x-x_1)\\dots (x-x_{i-1})(x-x_{i+1}) \\dots (x-x_n)}\n",
    "                               {(x_i-x_0)(x_i-x_1)\\dots (x_i-x_{i-1})(x_i-x_{i+1}) \\dots (x_i-x_n)}\n",
    "    \\end{split}\n",
    "\\end{equation}\n",
    "For convenience\n",
    "\\begin{equation}\n",
    "    w(x) = \\prod_{j=0}^n (x-x_j) \\; \\Rightarrow \\;\n",
    "    w^{'}(x) =\\sum_{k=0}^n \\prod_{j=0,j \\ne k}^n (x-x_j) \\; \\Rightarrow \\;\n",
    "    w^{'}(x_i) =\\prod_{j=0,j \\ne i}^n (x_i-x_j)\n",
    "\\end{equation}\n",
    "\n",
    "So we can rewrite \\ref{poly:long_lagr}:\n",
    "\n",
    "\\begin{equation}\\tag{2}\\label{poly:short_lagr}\n",
    "    P_n(x) = \\sum_{i = 0}^n f_i \\dfrac{w(x)}{(x-x_i)w^{'}(x_i)}\n",
    "\\end{equation}"
   ]
  },
  {
   "cell_type": "code",
   "execution_count": 1,
   "id": "funded-princess",
   "metadata": {},
   "outputs": [],
   "source": []
  }
 ],
 "metadata": {
  "kernelspec": {
   "display_name": "Python 3",
   "language": "python",
   "name": "python3"
  },
  "language_info": {
   "codemirror_mode": {
    "name": "ipython",
    "version": 3
   },
   "file_extension": ".py",
   "mimetype": "text/x-python",
   "name": "python",
   "nbconvert_exporter": "python",
   "pygments_lexer": "ipython3",
   "version": "3.8.8"
  }
 },
 "nbformat": 4,
 "nbformat_minor": 5
}
