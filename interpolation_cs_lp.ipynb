{
 "cells": [
  {
   "cell_type": "markdown",
   "id": "cloudy-twenty",
   "metadata": {},
   "source": [
    "# Function interpolation: Lagrange polynomial and cubic spline."
   ]
  },
  {
   "cell_type": "markdown",
   "id": "limiting-corpus",
   "metadata": {},
   "source": [
    "In this notebook i will implement functions to interpolate given function using Lagrange polynomial and cubic spline.\n",
    "\n",
    "Consider following:\\\n",
    "    function values $f(x_i)$ are known only for some points of the grid $\\omega = \\{a \\le x_0 < x_1 < \\dots <x_N \\le b\\} $\n",
    "\n",
    "Our goal is to find function $P_n(x)$ which satisfies the following conditions:\n",
    "\\begin{equation}\\tag{1}\\label{goal}\n",
    "    P_n(x_i) = f_i, \\; i\\in [0,n], \\text{ where } f_i = f(x_i)\n",
    "\\end{equation}\n",
    "\n",
    "This notebook will be quite lengthly."
   ]
  },
  {
   "cell_type": "markdown",
   "id": "grateful-operator",
   "metadata": {},
   "source": [
    "## 1. Lagrange polynomial"
   ]
  },
  {
   "cell_type": "markdown",
   "id": "signed-oliver",
   "metadata": {},
   "source": [
    "The interpolation polynomial in the Lagrange form is constructed using the Lagrange basis:\n",
    "\n",
    "\n",
    "\\begin{equation}\n",
    "    l_i(x) = \\dfrac{\\prod_{j=0, j\\ne i}^n (x-x_j)}{\\prod_{j=0, j\\ne i}^n (x_i-x_j)} \\; i \\in (0,n)\n",
    "\\end{equation}\n",
    "\n",
    "This basis has useful feature:\n",
    "\\begin{equation}\n",
    "    l_i(x) = \\begin{cases}\n",
    "                0, \\; j \\ne i \\\\\n",
    "                1, \\; j = i\n",
    "             \\end{cases}\n",
    "\\end{equation}\n",
    "Which we will use to write polynomial:\n",
    "\n",
    "\\begin{equation}\\tag{2}\\label{poly:long_lagr}\n",
    "    \\begin{split}\n",
    "        P_n(x) = \\sum_{i=0}^n f_i l_i(x) = \\sum_{i=0}^n f(x_i) \\dfrac{\\prod_{j=0, j\\ne i}^n (x-x_j)}{\\prod_{j=0, j\\ne i}^n (x_i-x_j)} = \\sum_{i=0}^n f_i \\prod_{j=0, j \\ne i}^n \\dfrac{x-x_j}{x_i-x_j} = \\\\\n",
    "        = \\sum_{i=0}^n f_i \\dfrac{(x-x_0)(x-x_1)\\dots (x-x_{i-1})(x-x_{i+1}) \\dots (x-x_n)}\n",
    "                               {(x_i-x_0)(x_i-x_1)\\dots (x_i-x_{i-1})(x_i-x_{i+1}) \\dots (x_i-x_n)}\n",
    "    \\end{split}\n",
    "\\end{equation}\n",
    "For convenience\n",
    "\\begin{equation}\n",
    "    w(x) = \\prod_{j=0}^n (x-x_j) \\; \\Rightarrow \\;\n",
    "    w^{'}(x) =\\sum_{k=0}^n \\prod_{j=0,j \\ne k}^n (x-x_j) \\; \\Rightarrow \\;\n",
    "    w^{'}(x_i) =\\prod_{j=0,j \\ne i}^n (x_i-x_j)\n",
    "\\end{equation}\n",
    "\n",
    "So we can rewrite \\ref{poly:long_lagr}:\n",
    "\n",
    "\\begin{equation}\\tag{2.1}\\label{poly:short_lagr}\n",
    "    P_n(x) = \\sum_{i = 0}^n f_i \\dfrac{w(x)}{(x-x_i)w^{'}(x_i)}\n",
    "\\end{equation}"
   ]
  },
  {
   "cell_type": "markdown",
   "id": "sufficient-tunisia",
   "metadata": {},
   "source": [
    "Lagrange polynomial has another representation:\n",
    "\n",
    "\\begin{equation} \\tag{2.2}\\label{poly:det_lagrange}\n",
    "    P_n(x) = (-1)\n",
    "    \\dfrac{\n",
    "        \\det\n",
    "        \\begin{pmatrix}\n",
    "            0       & f_0       & f_1       & \\cdots & f_n       \\\\\n",
    "            x^n     & x_0^n     & x_1^n     & \\cdots & x_n^n     \\\\\n",
    "            x^{n-1} & x_0^{n-1} & x_1^{n-1} & \\cdots & x_n^{n-1} \\\\\n",
    "            \\cdots  & \\cdots    & \\cdots    & \\cdots & \\cdots    \\\\\n",
    "            1       & 1         & 1         & \\cdots & 1         \\\\\n",
    "        \\end{pmatrix}\n",
    "    }{\n",
    "        \\det\n",
    "        \\begin{pmatrix}\n",
    "            x_0^n     & x_1^n     & \\cdots & x_n^n     \\\\\n",
    "            x_0^{n-1} & x_1^{n-1} & \\cdots & x_n^{n-1} \\\\\n",
    "            \\cdots    & \\cdots    & \\cdots & \\cdots    \\\\\n",
    "            1         & 1         & \\cdots & 1         \\\\\n",
    "        \\end{pmatrix}\n",
    "    }\n",
    "\\end{equation}\n",
    "\n",
    "We can transform it to calculate coefficients:\n",
    "\\begin{equation} \\tag{3}\n",
    "    a_i = (-1)^{n-i}\n",
    "    \\frac{\n",
    "        \\det\n",
    "        \\begin{pmatrix}\n",
    "            f_0       & f_1       & \\cdots  & \\cdots & f_n       \\\\\n",
    "            x_0^n     & x_1^n     & \\cdots  & \\cdots & x_n^n     \\\\\n",
    "            \\cdots    & \\cdots    & \\cdots  & \\cdots & \\cdots    \\\\\n",
    "            x_0^{i-1} & x_1^{i-1} & \\cdots  & \\cdots & x_n^{i-1} \\\\\n",
    "            x_0^{i+1} & x_1^{i+1} & \\cdots  & \\cdots & x_n^{i+1} \\\\\n",
    "            \\cdots    & \\cdots    & \\cdots  & \\cdots & \\cdots    \\\\\n",
    "            1         & 1         & \\cdots  & \\cdots & 1         \\\\\n",
    "        \\end{pmatrix}\n",
    "    }{\n",
    "        \\det\n",
    "        \\begin{pmatrix}\n",
    "            x_0^n     & x_1^n     & \\cdots & x_n^n     \\\\\n",
    "            x_0^{n-1} & x_1^{n-1} & \\cdots & x_n^{n-1} \\\\\n",
    "            \\cdots    & \\cdots    & \\cdots & \\cdots    \\\\\n",
    "            1         & 1         & \\cdots & 1         \\\\\n",
    "        \\end{pmatrix}\n",
    "    }, \\; i \\in (0,n)\n",
    "\\end{equation}"
   ]
  },
  {
   "cell_type": "markdown",
   "id": "serious-uncertainty",
   "metadata": {},
   "source": [
    "### Implementation\n",
    "\n",
    "Let's begin by importing required libraries."
   ]
  },
  {
   "cell_type": "code",
   "execution_count": 1,
   "id": "widespread-seating",
   "metadata": {},
   "outputs": [],
   "source": [
    "import numpy as np\n",
    "import matplotlib.pyplot as plt\n",
    "from IPython.display import Latex\n",
    "from IPython.display import display"
   ]
  },
  {
   "cell_type": "markdown",
   "id": "aboriginal-medicine",
   "metadata": {},
   "source": [
    "First we decide which function we will be interpolating. In my case this will be \n",
    "\\begin{equation}\n",
    "(x-2)^2 2^x-1\n",
    "\\end{equation}"
   ]
  },
  {
   "cell_type": "code",
   "execution_count": 2,
   "id": "korean-library",
   "metadata": {},
   "outputs": [],
   "source": [
    "# function which we are interpolating\n",
    "def function(x):\n",
    "    return np.asarray((x - 2)**2 * 2**x -1)"
   ]
  },
  {
   "cell_type": "markdown",
   "id": "heated-pilot",
   "metadata": {},
   "source": [
    "Then we define functions to calculate coefficients $a_i$ from formula (3). We will break this process in 3 parts."
   ]
  },
  {
   "cell_type": "code",
   "execution_count": 3,
   "id": "close-invite",
   "metadata": {},
   "outputs": [],
   "source": [
    "def coef_numerator(x,f,i,n):\n",
    "    \"\"\"\n",
    "    Parameters: x - grid nodes\n",
    "                f - respective values\n",
    "                i - current coef number\n",
    "                n - polynomial degree\n",
    "    \"\"\"\n",
    "    matr = []\n",
    "    matr.append(f)\n",
    "    for j in range(n,-1,-1):\n",
    "        if j == i:\n",
    "            continue\n",
    "        row = []\n",
    "        for k in range(n+1):\n",
    "            row.append(x[k]**j)\n",
    "        matr.append(row)\n",
    "    return np.asarray(matr)\n",
    "\n",
    "\n",
    "def coef_denominator(x,n):\n",
    "    \"\"\"\n",
    "    Parameters: x - grid nodes\n",
    "                n - polynomial degree\n",
    "    \"\"\"\n",
    "    return np.asarray([[el ** i for el in x] for i in range(n, -1, -1)])\n",
    "\n",
    "\n",
    "def lagrange_i_coef(x,f,i,n):\n",
    "    num = coef_numerator(x,f,i,n)\n",
    "    denom = coef_denominator(x,n)\n",
    "    res = ((-1) ** (n-i)) * (np.linalg.det(num) / np.linalg.det(denom))\n",
    "    return res"
   ]
  },
  {
   "cell_type": "markdown",
   "id": "modified-sword",
   "metadata": {},
   "source": [
    "Now we are able to create function which returns all Lagrange polynomial coefficients for given degree `n`"
   ]
  },
  {
   "cell_type": "code",
   "execution_count": 4,
   "id": "further-grain",
   "metadata": {},
   "outputs": [],
   "source": [
    "def lagrange_coefficients(x,f):\n",
    "    n = len(x) - 1\n",
    "    coefs = []\n",
    "    for i in range(n+1):\n",
    "        coefs.append(lagrange_i_coef(x,f,i,n))\n",
    "    return np.asarray(coefs)"
   ]
  },
  {
   "cell_type": "markdown",
   "id": "union-hollow",
   "metadata": {},
   "source": [
    "To store them, we will create class `Polynomial` which i had already implemented in `approximation_least_squares.ipynb`. I will modify it a bit - adding extra variable `info` will help us to distinguish polynomials (e.g. cubic splines on different sections, about it later)"
   ]
  },
  {
   "cell_type": "code",
   "execution_count": 24,
   "id": "revolutionary-piano",
   "metadata": {},
   "outputs": [],
   "source": [
    "class Polynomial:\n",
    "    def __init__(self, coefficients, info=\"\"):\n",
    "        self.info = info\n",
    "        self.coefficients = coefficients\n",
    "        self.deg = np.size(coefficients) - 1\n",
    "        \n",
    "        \n",
    "    def __getitem__(self, key):\n",
    "        return self.coefficients[key]\n",
    "\n",
    "    \n",
    "    def __str__(self):\n",
    "        result =f\"P_{{{self.deg}}}^{{{self.info}}}(x) = {str(self.coefficients[0])}\"\n",
    "        sign = {True: \"+\", False: \"-\"}\n",
    "        form = \"\".join([f\"{sign[self.coefficients[i] > 0]}({abs(self.coefficients[i])})x^{{{i}}}\" for i in range(1,self.deg+1)])\n",
    "        return result+form\n",
    "    \n",
    "    \n",
    "    def to_latex(self):\n",
    "        result =f\"Q_{self.deg} = {str(self.coefficients[0])}\"\n",
    "        return Latex(f\"\"\"\\\\begin{{equation*}}\n",
    "                {str(self)}\n",
    "                \\\\end{{equation*}}\"\"\")\n",
    "    \n",
    "    \n",
    "    def calculate(self,x):\n",
    "        return sum([self.coefficients[i]* x**i for i in np.arange(self.deg+1)])"
   ]
  },
  {
   "cell_type": "markdown",
   "id": "lovely-czech",
   "metadata": {},
   "source": [
    "### Optimal nodes grid\n",
    "\n",
    "To minimize interpolation error, nodes from grid must be Chebyshev polynomial roots. To find this nodes on $[a, b]$ section, following formula should be used:\n",
    "\n",
    "\n",
    "\\begin{equation} \\tag{4} \\label{nodes:cheb}\n",
    "    x_k = \\dfrac{a+b}{2} + \\dfrac{b-a}{2} \\cos{ \\dfrac{\\pi (2k+1)}{2(n+1)} }, \\; k \\in (0,n)\n",
    "\\end{equation}\n",
    "\n",
    "\n",
    "We will define function which takes number of nodes `n`,section  `a` `b` and calculates Chebyshev polynomial roots on $[a,b]$ section (optimal nodes grid) "
   ]
  },
  {
   "cell_type": "code",
   "execution_count": 25,
   "id": "paperback-sunglasses",
   "metadata": {
    "scrolled": true
   },
   "outputs": [],
   "source": [
    "def optimal_nodes(n,a,b):\n",
    "    nodes = [(a+b)/2 + (b-a)/2 * np.cos((np.pi * (2*k +1))/(2 * (n + 1))) for k in range(n)]\n",
    "    return np.asarray(nodes)"
   ]
  },
  {
   "cell_type": "markdown",
   "id": "refined-berlin",
   "metadata": {},
   "source": [
    "### Building Lagrange polynomials\n",
    "\n",
    "Now we will build to lagrange polynomials to approximate given function. Second polynomial is build based on optimal grid. First lets prepare data."
   ]
  },
  {
   "cell_type": "code",
   "execution_count": 30,
   "id": "liberal-aggregate",
   "metadata": {},
   "outputs": [],
   "source": [
    "a,b = [0,1] # given section\n",
    "n = 12 # polynomial degree\n",
    "x = np.linspace(a,b, n+1 ,endpoint=True) # n+1 because we need k+1 nodes to build polynomial with k degree\n",
    "f = function(x)\n",
    "\n",
    "x_ = np.linspace(a,b, 50 ,endpoint=True) # for plotting"
   ]
  },
  {
   "cell_type": "markdown",
   "id": "patient-thumbnail",
   "metadata": {},
   "source": [
    "#### Lagrange polynomial"
   ]
  },
  {
   "cell_type": "code",
   "execution_count": 40,
   "id": "twenty-delaware",
   "metadata": {},
   "outputs": [
    {
     "data": {
      "text/latex": [
       "\\begin{equation*}\n",
       "                P_{12}^{}(x) = 2.999999999999993-(1.2274112745173757)x^{1}-(0.8116826949380372)x^{2}-(0.045742412802695746)x^{3}+(0.056682590171328054)x^{4}+(0.022365007698512088)x^{5}+(0.004900874361862237)x^{6}+(0.0007781605448104383)x^{7}+(9.841652108283017e-05)x^{8}+(1.0256869226860196e-05)x^{9}+(1.0264089339206743e-06)x^{10}+(3.938271315662773e-08)x^{11}+(1.295671810066655e-08)x^{12}\n",
       "                \\end{equation*}"
      ],
      "text/plain": [
       "<IPython.core.display.Latex object>"
      ]
     },
     "execution_count": 40,
     "metadata": {},
     "output_type": "execute_result"
    }
   ],
   "source": [
    "lagrange_poly = Polynomial(lagrange_coefficients(x,f))\n",
    "lagrange_poly.to_latex()"
   ]
  },
  {
   "cell_type": "markdown",
   "id": "stable-detroit",
   "metadata": {},
   "source": [
    "#### Lagrange polynomial on optimal grid"
   ]
  },
  {
   "cell_type": "code",
   "execution_count": 48,
   "id": "controlling-chaos",
   "metadata": {},
   "outputs": [
    {
     "data": {
      "text/latex": [
       "\\begin{equation*}\n",
       "                P_{12}^{*}(x) = 2.999999925554712-(1.2274112473202337)x^{1}-(0.8116826741957084)x^{2}-(0.045742412258418935)x^{3}+(0.056682593067107837)x^{4}+(0.022364989703888893)x^{5}+(0.004900923508556995)x^{6}+(0.0007780668428783194)x^{7}+(9.852256605893557e-05)x^{8}+(1.01555712466537e-05)x^{9}+(1.0798830153607915e-06)x^{10}+(2.3456032593583397e-08)x^{11}+(1.4800318630257371e-08)x^{12}\n",
       "                \\end{equation*}"
      ],
      "text/plain": [
       "<IPython.core.display.Latex object>"
      ]
     },
     "execution_count": 48,
     "metadata": {},
     "output_type": "execute_result"
    }
   ],
   "source": [
    "x_optimal = optimal_nodes(n+1, a,b)\n",
    "f_optimal = function(x_optimal)\n",
    "\n",
    "lagrange_poly_optimal = Polynomial(lagrange_coefficients(x_optimal,f_optimal), info=\"*\")\n",
    "lagrange_poly_optimal.to_latex()"
   ]
  }
 ],
 "metadata": {
  "kernelspec": {
   "display_name": "Python 3",
   "language": "python",
   "name": "python3"
  },
  "language_info": {
   "codemirror_mode": {
    "name": "ipython",
    "version": 3
   },
   "file_extension": ".py",
   "mimetype": "text/x-python",
   "name": "python",
   "nbconvert_exporter": "python",
   "pygments_lexer": "ipython3",
   "version": "3.8.8"
  }
 },
 "nbformat": 4,
 "nbformat_minor": 5
}
