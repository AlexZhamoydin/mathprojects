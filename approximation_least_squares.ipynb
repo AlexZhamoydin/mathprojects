{
 "cells": [
  {
   "cell_type": "markdown",
   "id": "active-montana",
   "metadata": {},
   "source": [
    "# Function approximation: Least squares\n",
    "\n",
    "In this notebook i will approximate given function using least squares method. We will build 3 polynomials: with degrees 0,1 and 2."
   ]
  },
  {
   "cell_type": "markdown",
   "id": "spanish-phrase",
   "metadata": {},
   "source": [
    "Consider following:\\\n",
    "    function values $f(x_i)$ are known only for some points of the grid $\\omega = \\{a \\le x_0 < x_1 < \\dots <x_N \\le b\\} \\subset [a,b]. $\\\n",
    "$\\varphi_1(x), \\dots, \\varphi_n(x)$ - linearly independent functions on $[a,b]$\n",
    "    \\\n",
    "Our task is: out of polynomials of the form \n",
    "\n",
    "\\begin{equation}\\tag{1}\\label{goal}\n",
    "    Q_n(x) = a_1\\varphi_1 + \\dots + a_n \\varphi_n(x)\n",
    "\\end{equation}\n",
    "\n",
    "choose function\n",
    "\n",
    "\\begin{equation}\n",
    "    Q_n^{*}(x) = \\sum_{i=1}^n a_i^{*}\\varphi_i(x)\n",
    "\\end{equation}\n",
    "\n",
    "that \n",
    "\n",
    "\\begin{equation}\\tag{2}\n",
    "    \\parallel Q_n^{*} - f \\parallel  \\; = \\min_{a_1, \\dots, a_n} \\parallel Q_n^{*} - f \\parallel\n",
    "\\end{equation}\n",
    "\n"
   ]
  },
  {
   "cell_type": "markdown",
   "id": "artificial-innocent",
   "metadata": {},
   "source": [
    "## Algorithm:\n",
    "Given **N** - number of points\n",
    "1. Choose **n** $\\ll$ **N** - approximation number (as mentioned before,  $n \\in 0,1,2$ ) and linearly independent functions system\n",
    "\n",
    "2. Build system of linear equations:\n",
    "\\begin{equation}\\label{eq:sole}\\tag{3}\n",
    "    \\sum_{j=1}^n (\\varphi_i,\\varphi_j)_{\\omega}a_j = (f,\\varphi_i)_{\\omega},\\: i\\in(1, \\dots,n)\n",
    "    \\end{equation} where \n",
    "\\begin{equation}\n",
    "    \\sum_{j=1}^n (\\varphi_i,\\varphi_j)_{\\omega} = \\sum_{k=1}^N (\\varphi_i(x_k),\\varphi_j(x_k))\\\\\n",
    "    \\sum_{j=1}^n (\\varphi_i,f)_{\\omega} = \\sum_{k=1}^N (\\varphi_i(x_k),f(x_k)) \\\\\n",
    "\\end{equation} and solve it for $a_1, \\dots, a_n$\n",
    "\n",
    "3. With found $a_1^{*}, \\dots, a_n^{n}$ build target polynomial $Q_n^{*}$ in form\n",
    "\n",
    "\\begin{equation}\n",
    "    Q_n^{*}(x) = \\sum_{i=1}^n a_i^{*}\\varphi_i(x)\n",
    "\\end{equation}\n"
   ]
  },
  {
   "cell_type": "markdown",
   "id": "requested-dancing",
   "metadata": {},
   "source": [
    "## Realisation"
   ]
  },
  {
   "cell_type": "markdown",
   "id": "beautiful-medline",
   "metadata": {},
   "source": [
    "Let's begin by importing needed libraries. I will write formulas using $\\LaTeX$, so we will need `Latex` and `display` from `IPython.display`. We will need `numpy` for calculations, `matplotlib.pyplot` for visualization. I will also use `%matplotlib inline` magic command."
   ]
  },
  {
   "cell_type": "code",
   "execution_count": 1,
   "id": "frequent-seven",
   "metadata": {},
   "outputs": [],
   "source": [
    "import numpy as np\n",
    "from IPython.display import Latex\n",
    "from IPython.display import display\n",
    "import matplotlib.pyplot as plt\n",
    "%matplotlib inline"
   ]
  },
  {
   "cell_type": "markdown",
   "id": "polyphonic-employee",
   "metadata": {},
   "source": [
    "I will be approximating following function:\n",
    "\\begin{equation}\n",
    "(x-2)^2 2^x-1\n",
    "\\end{equation}\n",
    "\n",
    "For linearly independent basis i will choose following functions:\n",
    "\\begin{equation}\n",
    "\\varphi_0 = 1, \\varphi_1 = x, \\varphi_2 = x^2\n",
    "\\end{equation}"
   ]
  },
  {
   "cell_type": "markdown",
   "id": "stopped-depth",
   "metadata": {},
   "source": [
    "Let's code functions mentioned above. Each of them will take an array-like parameter and return numpy-array. I will also use scalar product function."
   ]
  },
  {
   "cell_type": "code",
   "execution_count": 2,
   "id": "victorian-absence",
   "metadata": {},
   "outputs": [],
   "source": [
    "# function which we are approximating\n",
    "def function(x):\n",
    "    return np.asarray((x - 2)**2 * 2**x -1)\n",
    "\n",
    "# basis functions\n",
    "def phi(x, deg):\n",
    "    return np.asarray(x ** deg)\n",
    "\n",
    "def scalar_product(a,b):\n",
    "    return np.sum(a*b)"
   ]
  },
  {
   "cell_type": "markdown",
   "id": "silver-alliance",
   "metadata": {},
   "source": [
    "We need function, which takes grid nodes `x`, function values `f` and polynomial degree `deg` as parameters, builds system (3), solves it and returns coefficients $a_i^{*}$ `coefficients`.This process will be divided by 3 parts. \n",
    "\n",
    "**Note**: polynomial $P$ with $degP = n$ needs system of $n+1$ equations."
   ]
  },
  {
   "cell_type": "code",
   "execution_count": 3,
   "id": "joint-nicaragua",
   "metadata": {},
   "outputs": [],
   "source": [
    "# this function builds left part of equation (3)\n",
    "def build_left(x, deg):\n",
    "    return np.asarray([[scalar_product(phi(x,i),phi(x,j)) for j in range(deg+1)] for i in range(deg+1)])\n",
    "\n",
    "\n",
    "# this function builds right part of equation (3)\n",
    "def build_right(x,f,deg):\n",
    "    return np.asarray([scalar_product(phi(x,i),f) for i in range(deg+1)])\n",
    "\n",
    "\n",
    "# this function solves equation (3) and returns polynomial coefficients\n",
    "def find_coefficients(x,f,deg):\n",
    "    a,b = build_left(x,deg), build_right(x,f,deg)\n",
    "    coefficients = np.linalg.solve(a,b)\n",
    "    return coefficients.ravel()"
   ]
  },
  {
   "cell_type": "markdown",
   "id": "upset-basis",
   "metadata": {},
   "source": [
    "When we are able to find coefficients, it would be great to store them somewhere. Let's create small class `Polynomial`, so we can find values given certain x easily. For this i will create `calculate` method. I will override `__getitem__` - to easily get access to coefficients, and `__str__` - to print polynomial in more human-friendly format. Then this overrided method will be used to make `to_latex` function, which transforms our polynomial into beautiful math formula using $\\LaTeX$ . "
   ]
  },
  {
   "cell_type": "code",
   "execution_count": 4,
   "id": "reflected-picking",
   "metadata": {},
   "outputs": [],
   "source": [
    "class Polynomial:\n",
    "    def __init__(self, coefficients):\n",
    "        self.coefficients = coefficients\n",
    "        self.deg = np.size(coefficients) - 1\n",
    "        \n",
    "        \n",
    "    def __getitem__(self, key):\n",
    "        return self.coefficients[key]\n",
    "\n",
    "    def __str__(self):\n",
    "        result =f\"P_{{{self.deg}}}(x) = {str(self.coefficients[0])}\"\n",
    "        sign = {True: \"+\", False: \"-\"}\n",
    "        form = \"\".join([f\"{sign[self.coefficients[i] > 0]}({abs(self.coefficients[i])})x^{{{i}}}\" for i in range(1,self.deg+1)])\n",
    "        return result+form\n",
    "    \n",
    "    \n",
    "    def to_latex(self):\n",
    "        result =f\"Q_{self.deg} = {str(self.coefficients[0])}\"\n",
    "        sign = {True: \"+\", False: \"\"}\n",
    "        form = \"\".join([\"{}{}x^{}\".format(sign[self.coefficients[i] > 0],self.coefficients[i],i) for i in range(1,self.deg+1)])\n",
    "        return Latex(f\"\"\"\\\\begin{{equation*}}\n",
    "                {str(self)}\n",
    "                \\\\end{{equation*}}\"\"\")\n",
    "    \n",
    "    \n",
    "    def calculate(self,x):\n",
    "        return sum([self.coefficients[i]* x**i for i in np.arange(self.deg+1)])\n",
    "    \n",
    "    \n"
   ]
  },
  {
   "cell_type": "markdown",
   "id": "considerable-level",
   "metadata": {},
   "source": [
    "### Calculating errors"
   ]
  },
  {
   "cell_type": "markdown",
   "id": "spread-amazon",
   "metadata": {},
   "source": [
    "After we found coefficients, we are ready to calculate RMSE (Root Mean Square Error) and RRMSE (Relative Root Mean Square Error). The formulas are respectively:\n",
    "\\begin{equation*} \n",
    "\\Delta_k = \\sqrt{\\sum_{i=0}^N(Q_k^{*}(x_i)-f(x_i))^2}  \\\\\n",
    "\\delta_k = \\dfrac{\\Delta_k}{\\parallel f \\parallel_\\omega}\\cdot 100\\% \n",
    "\\end{equation*} where $k$ - polynomial degree (in our case $k \\in (0,1,2)$ )"
   ]
  },
  {
   "cell_type": "markdown",
   "id": "musical-mechanism",
   "metadata": {},
   "source": [
    "Now we will define functions, which calculate $\\Delta_i$ and $\\delta_i$. They both take three required parameters: `x` - nodes from grid, `f` - respective function values and `poly` - `Polynomial` class instance. They also take two optional parameters `display_latex` and `decimal` for rounding."
   ]
  },
  {
   "cell_type": "code",
   "execution_count": 5,
   "id": "coastal-battlefield",
   "metadata": {},
   "outputs": [],
   "source": [
    "# Root Mean Square Error aka Delta\n",
    "def rmse(x,f,poly,display_latex=False,decimal=4):\n",
    "    rmse_error = round(np.sqrt(np.sum((poly.calculate(x) - f)**2)),decimal)\n",
    "    if display_latex:\n",
    "        display(Latex(f\"\"\"\\\\begin{{equation*}}\n",
    "                \\Delta_{poly.deg} = \\sqrt{{\\sum_{{i=0}}^N(Q_{poly.deg}^{{*}}(x_i)-f(x_i))^2}} ={rmse_error}\n",
    "                \\\\end{{equation*}}\"\"\"))\n",
    "    return rmse_error\n",
    "\n",
    "\n",
    "# Relative Root Mean Square Error aka delta\n",
    "def rrmse(x,f,poly,display_latex=False,decimal=4):\n",
    "    rmse_error = np.sqrt(np.sum((poly.calculate(x) - f)**2))\n",
    "    rrmse_error = round(rmse_error / np.sqrt(scalar_product(f,f)) * 100,decimal)\n",
    "    if display_latex:\n",
    "        display(Latex(f\"\"\"\\\\begin{{equation*}}\n",
    "                \\delta_{poly.deg} = \\dfrac{{\\Delta_{poly.deg}}}{{\\parallel f \\parallel_\\omega}}\\\\cdot 100\\\\% ={rrmse_error}\n",
    "                \\\\end{{equation*}}\"\"\"))\n",
    "    return rrmse_error"
   ]
  },
  {
   "cell_type": "markdown",
   "id": "current-performance",
   "metadata": {},
   "source": [
    "### Gathering everything"
   ]
  },
  {
   "cell_type": "markdown",
   "id": "limited-occurrence",
   "metadata": {},
   "source": [
    "Now we are ready to solve our task: find approximating polynomials for given function on given node grid. We need to see original function plot, as well as 3 other plots: for polynomials with degree 0,1 and 2. We will plot them on the same figure.\n",
    "\n",
    "Lets first plot our nodes grid and target function, and then create cycle to:\n",
    "1. Build polynomial with degree ***i***\n",
    "2. Plot it\n",
    "3. Print it's formula in $\\LaTeX$\n",
    "4. Calculate it's RMSE and RRMSE"
   ]
  },
  {
   "cell_type": "code",
   "execution_count": 6,
   "id": "cheap-attitude",
   "metadata": {},
   "outputs": [
    {
     "data": {
      "text/latex": [
       "\\begin{equation*}\n",
       "                P_{0}(x) = 2.0963\n",
       "                \\end{equation*}"
      ],
      "text/plain": [
       "<IPython.core.display.Latex object>"
      ]
     },
     "metadata": {},
     "output_type": "display_data"
    },
    {
     "data": {
      "text/latex": [
       "\\begin{equation*}\n",
       "                \\Delta_0 = \\sqrt{\\sum_{i=0}^N(Q_0^{*}(x_i)-f(x_i))^2} =1.6888\n",
       "                \\end{equation*}"
      ],
      "text/plain": [
       "<IPython.core.display.Latex object>"
      ]
     },
     "metadata": {},
     "output_type": "display_data"
    },
    {
     "data": {
      "text/latex": [
       "\\begin{equation*}\n",
       "                \\delta_0 = \\dfrac{\\Delta_0}{\\parallel f \\parallel_\\omega}\\cdot 100\\% =31.242\n",
       "                \\end{equation*}"
      ],
      "text/plain": [
       "<IPython.core.display.Latex object>"
      ]
     },
     "metadata": {},
     "output_type": "display_data"
    },
    {
     "data": {
      "text/latex": [
       "\\begin{equation*}\n",
       "                P_{1}(x) = 3.0999-(2.0073)x^{1}\n",
       "                \\end{equation*}"
      ],
      "text/plain": [
       "<IPython.core.display.Latex object>"
      ]
     },
     "metadata": {},
     "output_type": "display_data"
    },
    {
     "data": {
      "text/latex": [
       "\\begin{equation*}\n",
       "                \\Delta_1 = \\sqrt{\\sum_{i=0}^N(Q_1^{*}(x_i)-f(x_i))^2} =0.1775\n",
       "                \\end{equation*}"
      ],
      "text/plain": [
       "<IPython.core.display.Latex object>"
      ]
     },
     "metadata": {},
     "output_type": "display_data"
    },
    {
     "data": {
      "text/latex": [
       "\\begin{equation*}\n",
       "                \\delta_1 = \\dfrac{\\Delta_1}{\\parallel f \\parallel_\\omega}\\cdot 100\\% =3.2831\n",
       "                \\end{equation*}"
      ],
      "text/plain": [
       "<IPython.core.display.Latex object>"
      ]
     },
     "metadata": {},
     "output_type": "display_data"
    },
    {
     "data": {
      "text/latex": [
       "\\begin{equation*}\n",
       "                P_{2}(x) = 3.0033-(1.2823)x^{1}-(0.725)x^{2}\n",
       "                \\end{equation*}"
      ],
      "text/plain": [
       "<IPython.core.display.Latex object>"
      ]
     },
     "metadata": {},
     "output_type": "display_data"
    },
    {
     "data": {
      "text/latex": [
       "\\begin{equation*}\n",
       "                \\Delta_2 = \\sqrt{\\sum_{i=0}^N(Q_2^{*}(x_i)-f(x_i))^2} =0.0099\n",
       "                \\end{equation*}"
      ],
      "text/plain": [
       "<IPython.core.display.Latex object>"
      ]
     },
     "metadata": {},
     "output_type": "display_data"
    },
    {
     "data": {
      "text/latex": [
       "\\begin{equation*}\n",
       "                \\delta_2 = \\dfrac{\\Delta_2}{\\parallel f \\parallel_\\omega}\\cdot 100\\% =0.184\n",
       "                \\end{equation*}"
      ],
      "text/plain": [
       "<IPython.core.display.Latex object>"
      ]
     },
     "metadata": {},
     "output_type": "display_data"
    },
    {
     "data": {
      "image/png": "[encoded data removed]",
      "text/plain": [
       "<Figure size 432x288 with 1 Axes>"
      ]
     },
     "metadata": {
      "needs_background": "light"
     },
     "output_type": "display_data"
    },
    {
     "data": {
      "text/plain": [
       "<Figure size 720x720 with 0 Axes>"
      ]
     },
     "metadata": {},
     "output_type": "display_data"
    }
   ],
   "source": [
    "a,b = [0,1] # given section\n",
    "N = 5 # nodes quantity\n",
    "decimal = 4 # for rounding\n",
    "max_deg = 2 # max degree in for loop\n",
    "\n",
    "x_ = np.linspace(a,b,40, endpoint=True) # we will use this to plot functions\n",
    "x = np.linspace(a,b,N+1) # nodes grid\n",
    "f = function(x) # funciton values\n",
    "\n",
    "\n",
    "fig,ax = plt.subplots()\n",
    "plt.figure(figsize=(10,10))\n",
    "ax.plot(x_,function(x_), label=\"f\")\n",
    "ax.scatter(x,f)\n",
    "\n",
    "\n",
    "# i will save rmse's and rrmse's for future\n",
    "rms_errors  = np.zeros(shape=(max_deg+1,))\n",
    "rrms_errors = np.zeros(shape=(max_deg+1,))\n",
    "# i will save coefficients for future\n",
    "coef_matrix = np.zeros(shape=(max_deg+1,max_deg+1))\n",
    "\n",
    "\n",
    "for deg in np.arange(max_deg+1):\n",
    "    coefs = find_coefficients(x,f,deg)\n",
    "    poly = Polynomial(np.round(coefs,4))\n",
    "    ax.plot(x_,poly.calculate(x_),label=\"Q{}\".format(deg))\n",
    "    display(poly.to_latex()) # or print(poly) if we don't need LaTeX representation\n",
    "    \n",
    "    rms_errors[deg] = rmse(x,f,poly,display_latex=True,decimal=decimal)\n",
    "    rrms_errors[deg] = rrmse(x,f,poly,display_latex=True,decimal=decimal)\n",
    "    coef_matrix[deg] += np.hstack((coefs,np.asarray([0 for i in np.arange(max_deg-deg)])))\n",
    "    \n",
    "\n",
    "legend = ax.legend(loc='best', shadow=True, fontsize='x-large')\n",
    "\n",
    "#fig.savefig('approximation_least_squares.png') #save our plot"
   ]
  },
  {
   "cell_type": "markdown",
   "id": "increased-opinion",
   "metadata": {},
   "source": [
    "We have successfully completed our task. Now we can save our data to `pandas` `DataFrame` to store it."
   ]
  },
  {
   "cell_type": "code",
   "execution_count": 7,
   "id": "designed-democrat",
   "metadata": {},
   "outputs": [
    {
     "data": {
      "text/html": [
       "<div>\n",
       "<style scoped>\n",
       "    .dataframe tbody tr th:only-of-type {\n",
       "        vertical-align: middle;\n",
       "    }\n",
       "\n",
       "    .dataframe tbody tr th {\n",
       "        vertical-align: top;\n",
       "    }\n",
       "\n",
       "    .dataframe thead th {\n",
       "        text-align: right;\n",
       "    }\n",
       "</style>\n",
       "<table border=\"1\" class=\"dataframe\">\n",
       "  <thead>\n",
       "    <tr style=\"text-align: right;\">\n",
       "      <th></th>\n",
       "      <th>x_i</th>\n",
       "      <th>y_i</th>\n",
       "    </tr>\n",
       "  </thead>\n",
       "  <tbody>\n",
       "    <tr>\n",
       "      <th>0</th>\n",
       "      <td>0.0</td>\n",
       "      <td>3.000000</td>\n",
       "    </tr>\n",
       "    <tr>\n",
       "      <th>1</th>\n",
       "      <td>0.2</td>\n",
       "      <td>2.721783</td>\n",
       "    </tr>\n",
       "    <tr>\n",
       "      <th>2</th>\n",
       "      <td>0.4</td>\n",
       "      <td>2.377940</td>\n",
       "    </tr>\n",
       "    <tr>\n",
       "      <th>3</th>\n",
       "      <td>0.6</td>\n",
       "      <td>1.970804</td>\n",
       "    </tr>\n",
       "    <tr>\n",
       "      <th>4</th>\n",
       "      <td>0.8</td>\n",
       "      <td>1.507186</td>\n",
       "    </tr>\n",
       "    <tr>\n",
       "      <th>5</th>\n",
       "      <td>1.0</td>\n",
       "      <td>1.000000</td>\n",
       "    </tr>\n",
       "  </tbody>\n",
       "</table>\n",
       "</div>"
      ],
      "text/plain": [
       "   x_i       y_i\n",
       "0  0.0  3.000000\n",
       "1  0.2  2.721783\n",
       "2  0.4  2.377940\n",
       "3  0.6  1.970804\n",
       "4  0.8  1.507186\n",
       "5  1.0  1.000000"
      ]
     },
     "execution_count": 7,
     "metadata": {},
     "output_type": "execute_result"
    }
   ],
   "source": [
    "import pandas as pd\n",
    "pd.options.display.max_rows\n",
    "values = {'x_i':x,'y_i':f}\n",
    "xy_data = pd.DataFrame(values,columns=values.keys())\n",
    "xy_data.head(np.size(x))"
   ]
  },
  {
   "cell_type": "code",
   "execution_count": 8,
   "id": "incoming-springer",
   "metadata": {},
   "outputs": [
    {
     "data": {
      "text/html": [
       "<div>\n",
       "<style scoped>\n",
       "    .dataframe tbody tr th:only-of-type {\n",
       "        vertical-align: middle;\n",
       "    }\n",
       "\n",
       "    .dataframe tbody tr th {\n",
       "        vertical-align: top;\n",
       "    }\n",
       "\n",
       "    .dataframe thead th {\n",
       "        text-align: right;\n",
       "    }\n",
       "</style>\n",
       "<table border=\"1\" class=\"dataframe\">\n",
       "  <thead>\n",
       "    <tr style=\"text-align: right;\">\n",
       "      <th></th>\n",
       "      <th>a0_i</th>\n",
       "      <th>a1_i</th>\n",
       "      <th>a2_i</th>\n",
       "      <th>Delta</th>\n",
       "      <th>delta</th>\n",
       "    </tr>\n",
       "  </thead>\n",
       "  <tbody>\n",
       "    <tr>\n",
       "      <th>0</th>\n",
       "      <td>2.096286</td>\n",
       "      <td>0.000000</td>\n",
       "      <td>0.000000</td>\n",
       "      <td>1.6888</td>\n",
       "      <td>31.2420</td>\n",
       "    </tr>\n",
       "    <tr>\n",
       "      <th>1</th>\n",
       "      <td>3.099923</td>\n",
       "      <td>-2.007275</td>\n",
       "      <td>0.000000</td>\n",
       "      <td>0.1775</td>\n",
       "      <td>3.2831</td>\n",
       "    </tr>\n",
       "    <tr>\n",
       "      <th>2</th>\n",
       "      <td>3.003260</td>\n",
       "      <td>-1.282299</td>\n",
       "      <td>-0.724976</td>\n",
       "      <td>0.0099</td>\n",
       "      <td>0.1840</td>\n",
       "    </tr>\n",
       "  </tbody>\n",
       "</table>\n",
       "</div>"
      ],
      "text/plain": [
       "       a0_i      a1_i      a2_i   Delta    delta\n",
       "0  2.096286  0.000000  0.000000  1.6888  31.2420\n",
       "1  3.099923 -2.007275  0.000000  0.1775   3.2831\n",
       "2  3.003260 -1.282299 -0.724976  0.0099   0.1840"
      ]
     },
     "execution_count": 8,
     "metadata": {},
     "output_type": "execute_result"
    }
   ],
   "source": [
    "poly_info = pd.DataFrame(coef_matrix,columns=['a{}_i'.format(i) for i in range(max_deg+1)])\n",
    "poly_info['Delta'] = rms_errors\n",
    "poly_info['delta'] = rrms_errors\n",
    "poly_info.head(max_deg+1)"
   ]
  }
 ],
 "metadata": {
  "kernelspec": {
   "display_name": "Python 3",
   "language": "python",
   "name": "python3"
  },
  "language_info": {
   "codemirror_mode": {
    "name": "ipython",
    "version": 3
   },
   "file_extension": ".py",
   "mimetype": "text/x-python",
   "name": "python",
   "nbconvert_exporter": "python",
   "pygments_lexer": "ipython3",
   "version": "3.8.8"
  }
 },
 "nbformat": 4,
 "nbformat_minor": 5
}
