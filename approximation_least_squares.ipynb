{
 "cells": [
  {
   "cell_type": "markdown",
   "id": "bright-detail",
   "metadata": {},
   "source": [
    "# Function approximation. Least squares\n",
    "\n",
    "In this notebook i will approximate given function using least squares method. We will build 3 polynomials: zero degree, first degree and second degree. "
   ]
  },
  {
   "cell_type": "markdown",
   "id": "revised-gates",
   "metadata": {},
   "source": [
    "Given following:\\\n",
    "    function values $f(x_i)$ are known only for some points of the grid $\\omega = \\{a \\le x_0 < x_1 < \\dots <x_N \\le b\\} \\subset [a,b]. $\\\n",
    "$\\varphi_1(x), \\dots, \\varphi_n(x)$ - linearly independent functions on $[a,b]$\n",
    "    \\\n",
    "Our task is: out of polynomials of the form \n",
    "\n",
    "\\begin{equation}\\tag{1}\\label{goal}\n",
    "    Q_n(x) = a_1\\varphi_1 + \\dots + a_n \\varphi_n(x)\n",
    "\\end{equation}\n",
    "\n",
    "choose function\n",
    "\n",
    "\\begin{equation}\n",
    "    Q_n^{*}(x) = \\sum_{i=1}^n a_i^{*}\\varphi_i(x)\n",
    "\\end{equation}\n",
    "\n",
    "that \n",
    "\n",
    "\\begin{equation}\\tag{2}\n",
    "    \\parallel Q_n^{*} - f \\parallel  \\; = \\min_{a_1, \\dots, a_n} \\parallel Q_n^{*} - f \\parallel\n",
    "\\end{equation}\n",
    "\n"
   ]
  },
  {
   "cell_type": "markdown",
   "id": "frequent-quarter",
   "metadata": {},
   "source": [
    "## Algorithm:\n",
    "Given **N** - number of points\n",
    "1. Choose **n** $\\ll$ **N** - approximation number (as mentioned before,  $n \\in 0,1,2$ ) and linearly independent functions system\n",
    "\n",
    "2. Build system of linear equations:\n",
    "\\begin{equation}\\label{eq:sole}\\tag{3}\n",
    "    \\sum_{j=1}^n (\\varphi_i,\\varphi_j)_{\\omega}a_j = (f,\\varphi_i)_{\\omega},\\: i\\in(1, \\dots,n)\n",
    "    \\end{equation} where \n",
    "\\begin{equation}\n",
    "    \\sum_{j=1}^n (\\varphi_i,\\varphi_j)_{\\omega} = \\sum_{k=1}^N (\\varphi_i(x_k),\\varphi_j(x_k))\\\\\n",
    "    \\sum_{j=1}^n (\\varphi_i,f)_{\\omega} = \\sum_{k=1}^N (\\varphi_i(x_k),f(x_k)) \\\\\n",
    "\\end{equation} and solve it for $a_1, \\dots, a_n$\n",
    "\n",
    "3. With found $a_1^{*}, \\dots, a_n^{n}$ build target polynomial $Q_n^{*}$ in form\n",
    "\n",
    "\\begin{equation}\n",
    "    Q_n^{*}(x) = \\sum_{i=1}^n a_i^{*}\\varphi_i(x)\n",
    "\\end{equation}\n"
   ]
  },
  {
   "cell_type": "markdown",
   "id": "juvenile-harvard",
   "metadata": {},
   "source": [
    "## Realisation"
   ]
  },
  {
   "cell_type": "markdown",
   "id": "instant-imperial",
   "metadata": {},
   "source": [
    "Let's begin by importing needed libraries. I will write formulas using $\\LaTeX$, so we will need `Latex` and `display` from `IPython.display`. We will need `numpy` for calculations, `matplotlib.pyplot` for visualization. I will also use `%matplotlib inline` magic command."
   ]
  },
  {
   "cell_type": "code",
   "execution_count": 202,
   "id": "oriental-tooth",
   "metadata": {},
   "outputs": [],
   "source": [
    "import numpy as np\n",
    "from IPython.display import Latex\n",
    "from IPython.display import display\n",
    "import matplotlib.pyplot as plt\n",
    "%matplotlib inline"
   ]
  },
  {
   "cell_type": "markdown",
   "id": "atomic-tunnel",
   "metadata": {},
   "source": [
    "I will be approximating following function:\n",
    "\\begin{equation}\n",
    "(x-2)^2 2^x-1\n",
    "\\end{equation}\n",
    "\n",
    "For linearly independent basis i will choose following functions:\n",
    "\\begin{equation}\n",
    "\\varphi_0 = 1, \\varphi_1 = x, \\varphi_2 = x^2\n",
    "\\end{equation}"
   ]
  },
  {
   "cell_type": "markdown",
   "id": "advance-notebook",
   "metadata": {},
   "source": [
    "Let's code functions mentioned above. Each of them will take an array-like parameter and return numpy-array. I will also use scalar product function."
   ]
  },
  {
   "cell_type": "code",
   "execution_count": 203,
   "id": "developed-colombia",
   "metadata": {},
   "outputs": [],
   "source": [
    "# function which we are approximating\n",
    "def function(x):\n",
    "    return np.asarray((x - 2)**2 * 2**x -1)\n",
    "\n",
    "# basis functions\n",
    "def phi(x, deg):\n",
    "    return np.asarray(x ** deg)\n",
    "\n",
    "def scalar_product(a,b):\n",
    "    return np.sum(a*b)"
   ]
  },
  {
   "cell_type": "markdown",
   "id": "wanted-capacity",
   "metadata": {},
   "source": [
    "We need function, which takes grid nodes `x` and polynomial degree `deg` as parameters, builds system (3), solves it and returns coefficients $a_i^{*}$ `coefficients`.This process will be divided by 3 parts. \n",
    "\n",
    "**Note**: polynomial $P$ with $degP = n$ needs system of $n+1$ equations."
   ]
  },
  {
   "cell_type": "code",
   "execution_count": 204,
   "id": "lyric-federal",
   "metadata": {},
   "outputs": [],
   "source": [
    "# this function builds left part of equation (3)\n",
    "def build_left(x, deg):\n",
    "    return np.asarray([[scalar_product(phi(x,i),phi(x,j)) for j in range(deg+1)] for i in range(deg+1)])\n",
    "\n",
    "\n",
    "# this function builds right part of equation (3)\n",
    "def build_right(x,deg):\n",
    "    return np.asarray([scalar_product(phi(x,i),function(x)) for i in range(deg+1)])\n",
    "\n",
    "\n",
    "# this function solves equation (3) and returns polynomial coefficients\n",
    "def find_coefficients(x,deg):\n",
    "    a,b = build_left(x,deg), build_right(x,deg)\n",
    "    coefficients = np.linalg.solve(a,b)\n",
    "    return coefficients.ravel()"
   ]
  },
  {
   "cell_type": "markdown",
   "id": "favorite-biography",
   "metadata": {},
   "source": [
    "When we are able to find coefficients, it would be great to store them somewhere. Let's create small class `Polynomial`, so we can find values given certain x easily. For this i will create `calculate` mathod. I will override `__getitem__` - to easily get access to coefficients, and `__str__` - to print polynomial in more human-friendly format. Then this overrided method will be used to make `to_latex` function, which transforms our polynomial into beautiful math formula using $\\LaTeX$ . "
   ]
  },
  {
   "cell_type": "code",
   "execution_count": 205,
   "id": "religious-combination",
   "metadata": {},
   "outputs": [],
   "source": [
    "class Polynomial:\n",
    "    def __init__(self, coefficients):\n",
    "        self.coefficients = coefficients\n",
    "        self.deg = np.size(coefficients) - 1\n",
    "        \n",
    "        \n",
    "    def __getitem__(self, key):\n",
    "        return self.coefficients[key]\n",
    "\n",
    "    \n",
    "    def __str__(self):\n",
    "        result =f\"Q_{self.deg} = {str(self.coefficients[0])}\"\n",
    "        sign = {True: \"+\", False: \"\"}\n",
    "        form = \"\".join([\"{}{}x^{}\".format(sign[self.coefficients[i] > 0],self.coefficients[i],i) for i in range(1,self.deg+1)])\n",
    "        return result+form\n",
    "    \n",
    "    \n",
    "    def to_latex(self):\n",
    "        result =f\"Q_{self.deg} = {str(self.coefficients[0])}\"\n",
    "        sign = {True: \"+\", False: \"\"}\n",
    "        form = \"\".join([\"{}{}x^{}\".format(sign[self.coefficients[i] > 0],self.coefficients[i],i) for i in range(1,self.deg+1)])\n",
    "        return Latex(f\"\"\"\\\\begin{{equation*}}\n",
    "                {str(self)}\n",
    "                \\\\end{{equation*}}\"\"\")\n",
    "    \n",
    "    \n",
    "    def calculate(self,x):\n",
    "        return np.asarray(sum([self.coefficients[i]* x**i for i in np.arange(self.deg+1)]))\n",
    "    \n",
    "    \n"
   ]
  },
  {
   "cell_type": "markdown",
   "id": "southeast-valve",
   "metadata": {},
   "source": [
    "### Gathering everything"
   ]
  },
  {
   "cell_type": "markdown",
   "id": "norman-rebound",
   "metadata": {},
   "source": [
    "Now we are ready to solve our task: find approximating polynomials for given function on given node grid. We need to see original function plot, as well as 3 other plots: for polynomials with degree 0,1 and 2. We will plot them on same figure.\n",
    "\n",
    "Lets first plot our nodes grid and target function, and then create cycle to:\n",
    "1. Build polynomial with degree *i*\n",
    "2. Plot it\n",
    "3. Print it's formula in $\\LaTeX$"
   ]
  },
  {
   "cell_type": "code",
   "execution_count": 206,
   "id": "adjustable-stuff",
   "metadata": {},
   "outputs": [
    {
     "data": {
      "text/latex": [
       "\\begin{equation*}\n",
       "                Q_0 = 2.096285502403704\n",
       "                \\end{equation*}"
      ],
      "text/plain": [
       "<IPython.core.display.Latex object>"
      ]
     },
     "metadata": {},
     "output_type": "display_data"
    },
    {
     "data": {
      "text/latex": [
       "\\begin{equation*}\n",
       "                Q_1 = 3.099923139897339-2.007275274987271x^1\n",
       "                \\end{equation*}"
      ],
      "text/plain": [
       "<IPython.core.display.Latex object>"
      ]
     },
     "metadata": {},
     "output_type": "display_data"
    },
    {
     "data": {
      "text/latex": [
       "\\begin{equation*}\n",
       "                Q_2 = 3.003259617264053-1.2822988552376244x^1-0.7249764197496466x^2\n",
       "                \\end{equation*}"
      ],
      "text/plain": [
       "<IPython.core.display.Latex object>"
      ]
     },
     "metadata": {},
     "output_type": "display_data"
    },
    {
     "data": {
      "image/png": "[encoded data removed]",
      "text/plain": [
       "<Figure size 432x288 with 1 Axes>"
      ]
     },
     "metadata": {
      "needs_background": "light"
     },
     "output_type": "display_data"
    }
   ],
   "source": [
    "a,b = [0,1] # given section\n",
    "N = 5 # nodes quantity\n",
    "\n",
    "x_ = np.linspace(a,b,40, endpoint=True)\n",
    "x = np.linspace(a,b,N+1) # nodes grid\n",
    "\n",
    "fig,ax = plt.subplots()\n",
    "ax.plot(x_,function(x_))\n",
    "ax.scatter(x,function(x))\n",
    "\n",
    "max_deg = 2\n",
    "for deg in np.arange(max_deg+1):\n",
    "    coefs = find_coefficients(x,deg)\n",
    "    poly = Polynomial(coefs)\n",
    "    ax.plot(x,poly.calculate(x),label=\"Q{}\".format(deg))\n",
    "    display(poly.to_latex())\n",
    "\n",
    "legend = ax.legend(loc='best', shadow=True, fontsize='x-large')"
   ]
  }
 ],
 "metadata": {
  "kernelspec": {
   "display_name": "Python 3",
   "language": "python",
   "name": "python3"
  },
  "language_info": {
   "codemirror_mode": {
    "name": "ipython",
    "version": 3
   },
   "file_extension": ".py",
   "mimetype": "text/x-python",
   "name": "python",
   "nbconvert_exporter": "python",
   "pygments_lexer": "ipython3",
   "version": "3.8.8"
  }
 },
 "nbformat": 4,
 "nbformat_minor": 5
}
